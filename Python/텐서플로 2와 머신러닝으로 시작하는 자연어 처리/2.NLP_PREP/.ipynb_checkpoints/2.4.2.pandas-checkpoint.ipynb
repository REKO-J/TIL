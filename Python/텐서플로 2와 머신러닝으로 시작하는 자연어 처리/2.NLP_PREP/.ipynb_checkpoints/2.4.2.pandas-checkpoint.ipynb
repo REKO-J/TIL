{
 "cells": [
  {
   "cell_type": "markdown",
   "metadata": {},
   "source": [
    "## 2.4.2 판다스(Pandas)  \n",
    "\n",
    "판다스에는 세 가지 데이터 타입이 존재한다.\n",
    "\n",
    "* 시리즈(Series)\n",
    "* 데이터프레임(DataFrame)\n",
    "* 판넬(Panel)"
   ]
  },
  {
   "cell_type": "code",
   "execution_count": 1,
   "metadata": {},
   "outputs": [],
   "source": [
    "import pandas as pd\n",
    "import numpy as np"
   ]
  },
  {
   "cell_type": "markdown",
   "metadata": {},
   "source": [
    "### 시리즈 생성"
   ]
  },
  {
   "cell_type": "code",
   "execution_count": 8,
   "metadata": {},
   "outputs": [
    {
     "name": "stdout",
     "output_type": "stream",
     "text": [
      "0     1\n",
      "1     3\n",
      "2     5\n",
      "3     7\n",
      "4    10\n",
      "dtype: int64\n"
     ]
    }
   ],
   "source": [
    "a = pd.Series([1, 3, 5, 7, 10])\n",
    "\n",
    "print(a)"
   ]
  },
  {
   "cell_type": "code",
   "execution_count": 10,
   "metadata": {},
   "outputs": [
    {
     "name": "stdout",
     "output_type": "stream",
     "text": [
      "0    a\n",
      "1    b\n",
      "2    c\n",
      "3    d\n",
      "dtype: object\n"
     ]
    }
   ],
   "source": [
    "data = np.array(['a', 'b', 'c', 'd'])\n",
    "b = pd.Series(data)\n",
    "\n",
    "print(b)"
   ]
  },
  {
   "cell_type": "code",
   "execution_count": 11,
   "metadata": {},
   "outputs": [
    {
     "name": "stdout",
     "output_type": "stream",
     "text": [
      "0    10\n",
      "1    15\n",
      "2    20\n",
      "3    25\n",
      "dtype: int32\n"
     ]
    }
   ],
   "source": [
    "c = pd.Series(np.arange(10, 30, 5))\n",
    "\n",
    "print(c)"
   ]
  },
  {
   "cell_type": "code",
   "execution_count": 12,
   "metadata": {},
   "outputs": [
    {
     "name": "stdout",
     "output_type": "stream",
     "text": [
      "10    a\n",
      "20    b\n",
      "30    c\n",
      "dtype: object\n"
     ]
    }
   ],
   "source": [
    "a = pd.Series(['a', 'b', 'c'], index=[10, 20, 30])\n",
    "\n",
    "print(a)"
   ]
  },
  {
   "cell_type": "code",
   "execution_count": 13,
   "metadata": {},
   "outputs": [
    {
     "name": "stdout",
     "output_type": "stream",
     "text": [
      "a    10\n",
      "b    20\n",
      "c    30\n",
      "dtype: int64\n"
     ]
    }
   ],
   "source": [
    "dict = {'a': 10, 'b': 20, 'c': 30}\n",
    "d = pd.Series(dict)\n",
    "\n",
    "print(d)"
   ]
  },
  {
   "cell_type": "markdown",
   "metadata": {},
   "source": [
    "### 데이터 프레임 생성"
   ]
  },
  {
   "cell_type": "code",
   "execution_count": 15,
   "metadata": {},
   "outputs": [
    {
     "name": "stdout",
     "output_type": "stream",
     "text": [
      "   0\n",
      "0  1\n",
      "1  3\n",
      "2  5\n",
      "3  7\n",
      "4  9\n"
     ]
    }
   ],
   "source": [
    "a = pd.DataFrame([1, 3, 5, 7, 9])\n",
    "\n",
    "print(a)"
   ]
  },
  {
   "cell_type": "code",
   "execution_count": 16,
   "metadata": {},
   "outputs": [
    {
     "name": "stdout",
     "output_type": "stream",
     "text": [
      "  Name  Age\n",
      "0  Cho   28\n",
      "1  Kim   31\n",
      "2  Lee   38\n"
     ]
    }
   ],
   "source": [
    "dict = {'Name': ['Cho', 'Kim','Lee' ], 'Age': [28, 31, 38]}\n",
    "b = pd.DataFrame(dict)\n",
    "\n",
    "print(b)"
   ]
  },
  {
   "cell_type": "code",
   "execution_count": 17,
   "metadata": {},
   "outputs": [
    {
     "name": "stdout",
     "output_type": "stream",
     "text": [
      "        0     1\n",
      "0   apple  7000\n",
      "1  banana  5000\n",
      "2  orange  4000\n"
     ]
    }
   ],
   "source": [
    "c = pd.DataFrame([['apple', 7000], ['banana', 5000], ['orange', 4000]])\n",
    "\n",
    "print(c)"
   ]
  },
  {
   "cell_type": "code",
   "execution_count": 18,
   "metadata": {},
   "outputs": [
    {
     "name": "stdout",
     "output_type": "stream",
     "text": [
      "     name  price\n",
      "0   apple   7000\n",
      "1  banana   5000\n",
      "2  orange   4000\n"
     ]
    }
   ],
   "source": [
    "a = pd.DataFrame([['apple', 7000], ['banana', 5000], ['orange', 4000]], columns = ['name', 'price'])\n",
    "\n",
    "print(a)"
   ]
  },
  {
   "cell_type": "markdown",
   "metadata": {},
   "source": [
    "### 판다스 데이터 불러오기 및 쓰기"
   ]
  },
  {
   "cell_type": "code",
   "execution_count": 23,
   "metadata": {},
   "outputs": [
    {
     "name": "stdout",
     "output_type": "stream",
     "text": [
      "0      0.076547\n",
      "1      0.810574\n",
      "2      0.071555\n",
      "3      0.319684\n",
      "4      0.571791\n",
      "         ...   \n",
      "295    0.961260\n",
      "296    0.412032\n",
      "297    0.934486\n",
      "298    0.072067\n",
      "299    0.705263\n",
      "Name: A, Length: 300, dtype: float64\n"
     ]
    }
   ],
   "source": [
    "data_frame = pd.read_csv( './data_in/datafile.csv')\n",
    "\n",
    "print(data_frame['A'])"
   ]
  },
  {
   "cell_type": "code",
   "execution_count": 25,
   "metadata": {},
   "outputs": [
    {
     "name": "stdout",
     "output_type": "stream",
     "text": [
      "0    0.076547\n",
      "1    0.810574\n",
      "2    0.071555\n",
      "Name: A, dtype: float64\n"
     ]
    }
   ],
   "source": [
    "print(data_frame['A'][:3])"
   ]
  },
  {
   "cell_type": "code",
   "execution_count": 26,
   "metadata": {},
   "outputs": [
    {
     "name": "stdout",
     "output_type": "stream",
     "text": [
      "0     -0.334412\n",
      "1      1.799571\n",
      "2      0.843764\n",
      "3      1.079784\n",
      "4      0.734765\n",
      "         ...   \n",
      "295    0.800332\n",
      "296    1.151419\n",
      "297    1.431471\n",
      "298    0.769612\n",
      "299   -0.161041\n",
      "Name: D, Length: 300, dtype: float64\n"
     ]
    }
   ],
   "source": [
    "data_frame['D'] = data_frame['A'] + data_frame['B']\n",
    "\n",
    "print(data_frame ['D'])"
   ]
  },
  {
   "cell_type": "code",
   "execution_count": 27,
   "metadata": {},
   "outputs": [
    {
     "data": {
      "text/html": [
       "<div>\n",
       "<style scoped>\n",
       "    .dataframe tbody tr th:only-of-type {\n",
       "        vertical-align: middle;\n",
       "    }\n",
       "\n",
       "    .dataframe tbody tr th {\n",
       "        vertical-align: top;\n",
       "    }\n",
       "\n",
       "    .dataframe thead th {\n",
       "        text-align: right;\n",
       "    }\n",
       "</style>\n",
       "<table border=\"1\" class=\"dataframe\">\n",
       "  <thead>\n",
       "    <tr style=\"text-align: right;\">\n",
       "      <th></th>\n",
       "      <th>A</th>\n",
       "      <th>B</th>\n",
       "      <th>C</th>\n",
       "      <th>D</th>\n",
       "    </tr>\n",
       "  </thead>\n",
       "  <tbody>\n",
       "    <tr>\n",
       "      <th>count</th>\n",
       "      <td>300.000000</td>\n",
       "      <td>300.000000</td>\n",
       "      <td>300.000000</td>\n",
       "      <td>300.000000</td>\n",
       "    </tr>\n",
       "    <tr>\n",
       "      <th>mean</th>\n",
       "      <td>0.504467</td>\n",
       "      <td>0.120235</td>\n",
       "      <td>517.743333</td>\n",
       "      <td>0.624702</td>\n",
       "    </tr>\n",
       "    <tr>\n",
       "      <th>std</th>\n",
       "      <td>0.283837</td>\n",
       "      <td>0.576256</td>\n",
       "      <td>283.187160</td>\n",
       "      <td>0.656320</td>\n",
       "    </tr>\n",
       "    <tr>\n",
       "      <th>min</th>\n",
       "      <td>0.003110</td>\n",
       "      <td>-0.981417</td>\n",
       "      <td>0.000000</td>\n",
       "      <td>-0.890799</td>\n",
       "    </tr>\n",
       "    <tr>\n",
       "      <th>25%</th>\n",
       "      <td>0.241881</td>\n",
       "      <td>-0.336614</td>\n",
       "      <td>282.250000</td>\n",
       "      <td>0.100411</td>\n",
       "    </tr>\n",
       "    <tr>\n",
       "      <th>50%</th>\n",
       "      <td>0.528009</td>\n",
       "      <td>0.224035</td>\n",
       "      <td>526.500000</td>\n",
       "      <td>0.767702</td>\n",
       "    </tr>\n",
       "    <tr>\n",
       "      <th>75%</th>\n",
       "      <td>0.750084</td>\n",
       "      <td>0.591710</td>\n",
       "      <td>754.250000</td>\n",
       "      <td>1.141083</td>\n",
       "    </tr>\n",
       "    <tr>\n",
       "      <th>max</th>\n",
       "      <td>0.994491</td>\n",
       "      <td>0.989536</td>\n",
       "      <td>996.000000</td>\n",
       "      <td>1.857518</td>\n",
       "    </tr>\n",
       "  </tbody>\n",
       "</table>\n",
       "</div>"
      ],
      "text/plain": [
       "                A           B           C           D\n",
       "count  300.000000  300.000000  300.000000  300.000000\n",
       "mean     0.504467    0.120235  517.743333    0.624702\n",
       "std      0.283837    0.576256  283.187160    0.656320\n",
       "min      0.003110   -0.981417    0.000000   -0.890799\n",
       "25%      0.241881   -0.336614  282.250000    0.100411\n",
       "50%      0.528009    0.224035  526.500000    0.767702\n",
       "75%      0.750084    0.591710  754.250000    1.141083\n",
       "max      0.994491    0.989536  996.000000    1.857518"
      ]
     },
     "execution_count": 27,
     "metadata": {},
     "output_type": "execute_result"
    }
   ],
   "source": [
    "data_frame.describe()"
   ]
  },
  {
   "cell_type": "code",
   "execution_count": null,
   "metadata": {},
   "outputs": [],
   "source": []
  },
  {
   "cell_type": "code",
   "execution_count": null,
   "metadata": {},
   "outputs": [],
   "source": []
  },
  {
   "cell_type": "code",
   "execution_count": null,
   "metadata": {},
   "outputs": [],
   "source": []
  }
 ],
 "metadata": {
  "kernelspec": {
   "display_name": "Python 3 (ipykernel)",
   "language": "python",
   "name": "python3"
  },
  "language_info": {
   "codemirror_mode": {
    "name": "ipython",
    "version": 3
   },
   "file_extension": ".py",
   "mimetype": "text/x-python",
   "name": "python",
   "nbconvert_exporter": "python",
   "pygments_lexer": "ipython3",
   "version": "3.11.4"
  }
 },
 "nbformat": 4,
 "nbformat_minor": 2
}
