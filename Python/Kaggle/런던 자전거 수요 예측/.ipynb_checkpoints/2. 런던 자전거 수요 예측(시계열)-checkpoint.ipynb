{
 "cells": [
  {
   "cell_type": "markdown",
   "id": "bb41c7ab",
   "metadata": {},
   "source": [
    "# 2. 런던 자전거 수요 예측(시계열)\n",
    "https://www.kaggle.com/datasets/hmavrodiev/london-bike-sharing-dataset"
   ]
  },
  {
   "cell_type": "code",
   "execution_count": 1,
   "id": "30fad1f4",
   "metadata": {},
   "outputs": [],
   "source": [
    "import numpy as np\n",
    "import pandas as pd\n",
    "import matplotlib.pyplot as plt\n",
    "import seaborn as sns"
   ]
  },
  {
   "cell_type": "code",
   "execution_count": 2,
   "id": "50e0951d",
   "metadata": {},
   "outputs": [
    {
     "data": {
      "text/html": [
       "<div>\n",
       "<style scoped>\n",
       "    .dataframe tbody tr th:only-of-type {\n",
       "        vertical-align: middle;\n",
       "    }\n",
       "\n",
       "    .dataframe tbody tr th {\n",
       "        vertical-align: top;\n",
       "    }\n",
       "\n",
       "    .dataframe thead th {\n",
       "        text-align: right;\n",
       "    }\n",
       "</style>\n",
       "<table border=\"1\" class=\"dataframe\">\n",
       "  <thead>\n",
       "    <tr style=\"text-align: right;\">\n",
       "      <th></th>\n",
       "      <th>timestamp</th>\n",
       "      <th>cnt</th>\n",
       "      <th>t1</th>\n",
       "      <th>t2</th>\n",
       "      <th>hum</th>\n",
       "      <th>wind_speed</th>\n",
       "      <th>weather_code</th>\n",
       "      <th>is_holiday</th>\n",
       "      <th>is_weekend</th>\n",
       "      <th>season</th>\n",
       "    </tr>\n",
       "  </thead>\n",
       "  <tbody>\n",
       "    <tr>\n",
       "      <th>0</th>\n",
       "      <td>2015-01-04 00:00:00</td>\n",
       "      <td>182</td>\n",
       "      <td>3.0</td>\n",
       "      <td>2.0</td>\n",
       "      <td>93.0</td>\n",
       "      <td>6.0</td>\n",
       "      <td>3.0</td>\n",
       "      <td>0.0</td>\n",
       "      <td>1.0</td>\n",
       "      <td>3.0</td>\n",
       "    </tr>\n",
       "    <tr>\n",
       "      <th>1</th>\n",
       "      <td>2015-01-04 01:00:00</td>\n",
       "      <td>138</td>\n",
       "      <td>3.0</td>\n",
       "      <td>2.5</td>\n",
       "      <td>93.0</td>\n",
       "      <td>5.0</td>\n",
       "      <td>1.0</td>\n",
       "      <td>0.0</td>\n",
       "      <td>1.0</td>\n",
       "      <td>3.0</td>\n",
       "    </tr>\n",
       "    <tr>\n",
       "      <th>2</th>\n",
       "      <td>2015-01-04 02:00:00</td>\n",
       "      <td>134</td>\n",
       "      <td>2.5</td>\n",
       "      <td>2.5</td>\n",
       "      <td>96.5</td>\n",
       "      <td>0.0</td>\n",
       "      <td>1.0</td>\n",
       "      <td>0.0</td>\n",
       "      <td>1.0</td>\n",
       "      <td>3.0</td>\n",
       "    </tr>\n",
       "    <tr>\n",
       "      <th>3</th>\n",
       "      <td>2015-01-04 03:00:00</td>\n",
       "      <td>72</td>\n",
       "      <td>2.0</td>\n",
       "      <td>2.0</td>\n",
       "      <td>100.0</td>\n",
       "      <td>0.0</td>\n",
       "      <td>1.0</td>\n",
       "      <td>0.0</td>\n",
       "      <td>1.0</td>\n",
       "      <td>3.0</td>\n",
       "    </tr>\n",
       "    <tr>\n",
       "      <th>4</th>\n",
       "      <td>2015-01-04 04:00:00</td>\n",
       "      <td>47</td>\n",
       "      <td>2.0</td>\n",
       "      <td>0.0</td>\n",
       "      <td>93.0</td>\n",
       "      <td>6.5</td>\n",
       "      <td>1.0</td>\n",
       "      <td>0.0</td>\n",
       "      <td>1.0</td>\n",
       "      <td>3.0</td>\n",
       "    </tr>\n",
       "  </tbody>\n",
       "</table>\n",
       "</div>"
      ],
      "text/plain": [
       "            timestamp  cnt   t1   t2    hum  wind_speed  weather_code  \\\n",
       "0 2015-01-04 00:00:00  182  3.0  2.0   93.0         6.0           3.0   \n",
       "1 2015-01-04 01:00:00  138  3.0  2.5   93.0         5.0           1.0   \n",
       "2 2015-01-04 02:00:00  134  2.5  2.5   96.5         0.0           1.0   \n",
       "3 2015-01-04 03:00:00   72  2.0  2.0  100.0         0.0           1.0   \n",
       "4 2015-01-04 04:00:00   47  2.0  0.0   93.0         6.5           1.0   \n",
       "\n",
       "   is_holiday  is_weekend  season  \n",
       "0         0.0         1.0     3.0  \n",
       "1         0.0         1.0     3.0  \n",
       "2         0.0         1.0     3.0  \n",
       "3         0.0         1.0     3.0  \n",
       "4         0.0         1.0     3.0  "
      ]
     },
     "execution_count": 2,
     "metadata": {},
     "output_type": "execute_result"
    }
   ],
   "source": [
    "df = pd.read_csv('london_merged.csv', parse_dates=['timestamp'])  # parse_dates: 날씨 및 시간 정보 파싱\n",
    "df.head()"
   ]
  },
  {
   "cell_type": "code",
   "execution_count": 3,
   "id": "fdc98435",
   "metadata": {},
   "outputs": [
    {
     "data": {
      "text/plain": [
       "0       2015-01-04 00:00:00\n",
       "1       2015-01-04 01:00:00\n",
       "2       2015-01-04 02:00:00\n",
       "3       2015-01-04 03:00:00\n",
       "4       2015-01-04 04:00:00\n",
       "                ...        \n",
       "17409   2017-01-03 19:00:00\n",
       "17410   2017-01-03 20:00:00\n",
       "17411   2017-01-03 21:00:00\n",
       "17412   2017-01-03 22:00:00\n",
       "17413   2017-01-03 23:00:00\n",
       "Name: timestamp, Length: 17414, dtype: datetime64[ns]"
      ]
     },
     "execution_count": 3,
     "metadata": {},
     "output_type": "execute_result"
    }
   ],
   "source": [
    "df['timestamp']"
   ]
  },
  {
   "cell_type": "code",
   "execution_count": 4,
   "id": "6b5ffd74",
   "metadata": {},
   "outputs": [
    {
     "data": {
      "text/plain": [
       "(17414, 10)"
      ]
     },
     "execution_count": 4,
     "metadata": {},
     "output_type": "execute_result"
    }
   ],
   "source": [
    "df.shape"
   ]
  },
  {
   "cell_type": "code",
   "execution_count": 5,
   "id": "6b2db09a",
   "metadata": {},
   "outputs": [],
   "source": [
    "train = df.iloc[:17000, 1:2]\n",
    "test = df.iloc[17000:, 1:2]"
   ]
  },
  {
   "cell_type": "code",
   "execution_count": 6,
   "id": "8a8dacc4",
   "metadata": {},
   "outputs": [
    {
     "name": "stdout",
     "output_type": "stream",
     "text": [
      "train 데이터: (17000, 1)\n",
      "test 데이터: (414, 1)\n"
     ]
    }
   ],
   "source": [
    "print('train 데이터:', train.shape)\n",
    "print('test 데이터:',test.shape)"
   ]
  },
  {
   "cell_type": "code",
   "execution_count": 7,
   "id": "9244292f",
   "metadata": {},
   "outputs": [
    {
     "data": {
      "image/png": "[encoded data removed]",
      "text/plain": [
       "<Figure size 1500x400 with 1 Axes>"
      ]
     },
     "metadata": {},
     "output_type": "display_data"
    }
   ],
   "source": [
    "df['cnt'][:17000].plot(figsize=(15, 4), legend=True)\n",
    "df['cnt'][17000:].plot(figsize=(15, 4), legend=True)\n",
    "plt.legend(['train', 'test'])\n",
    "plt.title('Bike Share Demand')\n",
    "plt.show()"
   ]
  },
  {
   "cell_type": "markdown",
   "id": "01076535",
   "metadata": {},
   "source": [
    "## 1. 부분 자기상관 함수(Partial Autocorrelation Function, PACF)\n",
    "### nlags\n",
    "- 부분 자기상관 함수(PACF)를 계산할 때 사용할 시간 지연(lag)의 최대 개수입니다.\n",
    "- 이 매개변수를 지정하여 계산할 시간 지연의 최대 개수를 제한할 수 있습니다.\n",
    "- 일반적으로는 시간 지연이 얼마나 먼 과거까지를 고려할지를 결정하는데 사용됩니다.\n",
    "### method\n",
    "-  PACF를 계산하는 데 사용할 방법을 지정하는 매개변수입니다.\n",
    "- 일반적으로 사용되는 방법으로는 \"ols\" (Ordinary Least Squares)와 \"yw\" (Yule-Walker)가 있습니다.\n",
    "- \"ols\" 방법은 최소자승법을 사용하여 PACF를 추정하고, \"yw\" 방법은 Yule-Walker 방정식을 사용하여 추정합니다. 기본값은 \"yw\"입니다."
   ]
  },
  {
   "cell_type": "code",
   "execution_count": 8,
   "id": "0c0298a5",
   "metadata": {},
   "outputs": [
    {
     "name": "stdout",
     "output_type": "stream",
     "text": [
      "[ 1.          0.78148357 -0.41172684  0.18486682 -0.07510114 -0.09947694\n",
      " -0.08494917 -0.00403993  0.0920456   0.07065422 -0.32935188 -0.06873344\n",
      "  0.05112775  0.04852911  0.06695059 -0.19621297 -0.07610221  0.14365297\n",
      " -0.11638129  0.18990804  0.16480713]\n"
     ]
    }
   ],
   "source": [
    "from statsmodels.tsa.stattools import pacf\n",
    "\n",
    "pacf = pacf(df['cnt'], nlags=20, method='ols')\n",
    "print(pacf)"
   ]
  },
  {
   "cell_type": "code",
   "execution_count": 9,
   "id": "aac0e6fa",
   "metadata": {},
   "outputs": [
    {
     "name": "stderr",
     "output_type": "stream",
     "text": [
      "C:\\Users\\REKOJ\\AppData\\Local\\Temp\\ipykernel_10392\\1117856410.py:3: UserWarning: Matplotlib is currently using module://matplotlib_inline.backend_inline, which is a non-GUI backend, so cannot show the figure.\n",
      "  plot_pacf(df['cnt'], lags=20, method='ols', title='pa').show()\n"
     ]
    },
    {
     "data": {
      "image/png": "[encoded data removed]",
      "text/plain": [
       "<Figure size 640x480 with 1 Axes>"
      ]
     },
     "metadata": {},
     "output_type": "display_data"
    }
   ],
   "source": [
    "from statsmodels.graphics.tsaplots import plot_pacf\n",
    "\n",
    "plot_pacf(df['cnt'], lags=20, method='ols', title='pa').show()"
   ]
  },
  {
   "cell_type": "markdown",
   "id": "87c5d82f",
   "metadata": {},
   "source": [
    "## 2. Data Scale\n",
    "- 데이터 스케일은 주어진 데이터의 값 범위를 변경하는 작업입니다.\n",
    "- 이는 데이터를 일정한 범위로 변환하여 모델 학습을 최적화하고 성능을 향상시키는 데 도움이 됩니다.\n",
    "- 올바른 데이터 스케일링은 모델의 학습 속도와 성능에 긍정적인 영향을 미칠 수 있습니다.\n",
    "- 그러나 데이터 스케일링을 사용할지 여부와 어떤 방법을 사용할지는 데이터의 특성과 모델의 요구 사항에 따라 달라집니다.\n",
    "\n",
    "### 1) Min-Max 스케일링(정규화)\n",
    "- 데이터를 새로운 최소값과 최대값으로 변환합니다.\n",
    "- 변환된 값은 일반적으로 [0, 1] 또는 [-1, 1] 범위에 있습니다.\n",
    "- 이 방법은 이상치에 민감할 수 있습니다.\n",
    "\n",
    "### 2) Z-점수 평균화(표준화)\n",
    "- 데이터를 평균이 0이고 표준 편차가 1인 분포로 변환합니다.\n",
    "- 이 방법은 이상치에 상대적으로 덜 민감합니다."
   ]
  },
  {
   "cell_type": "code",
   "execution_count": 10,
   "id": "53b68328",
   "metadata": {},
   "outputs": [],
   "source": [
    "from sklearn.preprocessing import MinMaxScaler\n",
    "\n",
    "sc = MinMaxScaler(feature_range=(0, 1))\n",
    "train_scaled = sc.fit_transform(train)"
   ]
  },
  {
   "cell_type": "code",
   "execution_count": 11,
   "id": "fb4b9474",
   "metadata": {},
   "outputs": [
    {
     "data": {
      "text/plain": [
       "array([[0.02315522],\n",
       "       [0.01755725],\n",
       "       [0.01704835],\n",
       "       ...,\n",
       "       [0.17468193],\n",
       "       [0.16348601],\n",
       "       [0.14083969]])"
      ]
     },
     "execution_count": 11,
     "metadata": {},
     "output_type": "execute_result"
    }
   ],
   "source": [
    "train_scaled"
   ]
  },
  {
   "cell_type": "code",
   "execution_count": 12,
   "id": "cfdc27f5",
   "metadata": {},
   "outputs": [],
   "source": [
    "X_train = []\n",
    "y_train = []\n",
    "\n",
    "for i in range(1, 17000):\n",
    "    X_train.append(train_scaled[i-1:i, 0])  # 자전거 이용객의 1시간 전 데이터\n",
    "    y_train.append(train_scaled[i, 0])      # 원래 데이터\n",
    "    \n",
    "X_train, y_train = np.array(X_train), np.array(y_train)"
   ]
  },
  {
   "cell_type": "code",
   "execution_count": 13,
   "id": "9d51b684",
   "metadata": {},
   "outputs": [
    {
     "data": {
      "text/plain": [
       "(16999, 1)"
      ]
     },
     "execution_count": 13,
     "metadata": {},
     "output_type": "execute_result"
    }
   ],
   "source": [
    "X_train.shape"
   ]
  },
  {
   "cell_type": "code",
   "execution_count": 14,
   "id": "ef166d50",
   "metadata": {},
   "outputs": [
    {
     "data": {
      "text/plain": [
       "(16999, 1, 1)"
      ]
     },
     "execution_count": 14,
     "metadata": {},
     "output_type": "execute_result"
    }
   ],
   "source": [
    "# 3차원 배열로 변환\n",
    "X_train = np.reshape(X_train, (X_train.shape[0], X_train.shape[1], 1))\n",
    "X_train.shape"
   ]
  },
  {
   "cell_type": "code",
   "execution_count": 15,
   "id": "5a8704da",
   "metadata": {},
   "outputs": [],
   "source": [
    "from keras.models import Sequential\n",
    "from keras.layers import Dense, Activation\n",
    "from keras.layers import SimpleRNN"
   ]
  },
  {
   "cell_type": "code",
   "execution_count": 16,
   "id": "0face2ba",
   "metadata": {},
   "outputs": [],
   "source": [
    "rnn = Sequential()\n",
    "rnn.add(SimpleRNN(activation='relu', units=6, input_shape=(1, 1)))\n",
    "rnn.add(Dense(activation='linear', units=1))"
   ]
  },
  {
   "cell_type": "code",
   "execution_count": 17,
   "id": "22d58c40",
   "metadata": {},
   "outputs": [
    {
     "name": "stdout",
     "output_type": "stream",
     "text": [
      "Model: \"sequential\"\n",
      "_________________________________________________________________\n",
      " Layer (type)                Output Shape              Param #   \n",
      "=================================================================\n",
      " simple_rnn (SimpleRNN)      (None, 6)                 48        \n",
      "                                                                 \n",
      " dense (Dense)               (None, 1)                 7         \n",
      "                                                                 \n",
      "=================================================================\n",
      "Total params: 55 (220.00 Byte)\n",
      "Trainable params: 55 (220.00 Byte)\n",
      "Non-trainable params: 0 (0.00 Byte)\n",
      "_________________________________________________________________\n"
     ]
    }
   ],
   "source": [
    "rnn.summary()"
   ]
  },
  {
   "cell_type": "code",
   "execution_count": 20,
   "id": "93274b31",
   "metadata": {},
   "outputs": [],
   "source": [
    "rnn.compile(loss='mse', optimizer='adam', metrics=['mse'])"
   ]
  },
  {
   "cell_type": "code",
   "execution_count": null,
   "id": "6f864380",
   "metadata": {},
   "outputs": [],
   "source": [
    "rnn.fit(X_train, y_train)"
   ]
  },
  {
   "cell_type": "code",
   "execution_count": null,
   "id": "8f5c97c3",
   "metadata": {},
   "outputs": [],
   "source": []
  },
  {
   "cell_type": "code",
   "execution_count": null,
   "id": "746943e2",
   "metadata": {},
   "outputs": [],
   "source": []
  },
  {
   "cell_type": "code",
   "execution_count": null,
   "id": "1663a350",
   "metadata": {},
   "outputs": [],
   "source": []
  },
  {
   "cell_type": "code",
   "execution_count": null,
   "id": "63c0a932",
   "metadata": {},
   "outputs": [],
   "source": []
  },
  {
   "cell_type": "code",
   "execution_count": null,
   "id": "3d507022",
   "metadata": {},
   "outputs": [],
   "source": []
  },
  {
   "cell_type": "code",
   "execution_count": null,
   "id": "b118bf2d",
   "metadata": {},
   "outputs": [],
   "source": []
  },
  {
   "cell_type": "code",
   "execution_count": null,
   "id": "ef02ff58",
   "metadata": {},
   "outputs": [],
   "source": []
  },
  {
   "cell_type": "code",
   "execution_count": null,
   "id": "c02bf276",
   "metadata": {},
   "outputs": [],
   "source": []
  },
  {
   "cell_type": "code",
   "execution_count": null,
   "id": "a9cb0223",
   "metadata": {},
   "outputs": [],
   "source": []
  },
  {
   "cell_type": "code",
   "execution_count": null,
   "id": "797cd177",
   "metadata": {},
   "outputs": [],
   "source": []
  },
  {
   "cell_type": "code",
   "execution_count": null,
   "id": "4474d3c7",
   "metadata": {},
   "outputs": [],
   "source": []
  },
  {
   "cell_type": "code",
   "execution_count": null,
   "id": "042a9917",
   "metadata": {},
   "outputs": [],
   "source": []
  },
  {
   "cell_type": "code",
   "execution_count": null,
   "id": "e959c4ef",
   "metadata": {},
   "outputs": [],
   "source": []
  },
  {
   "cell_type": "code",
   "execution_count": null,
   "id": "61d4a6da",
   "metadata": {},
   "outputs": [],
   "source": []
  },
  {
   "cell_type": "code",
   "execution_count": null,
   "id": "074d12c9",
   "metadata": {},
   "outputs": [],
   "source": []
  },
  {
   "cell_type": "code",
   "execution_count": null,
   "id": "63277bf3",
   "metadata": {},
   "outputs": [],
   "source": []
  },
  {
   "cell_type": "code",
   "execution_count": null,
   "id": "c0c3df90",
   "metadata": {},
   "outputs": [],
   "source": []
  },
  {
   "cell_type": "code",
   "execution_count": null,
   "id": "d6137e30",
   "metadata": {},
   "outputs": [],
   "source": []
  },
  {
   "cell_type": "code",
   "execution_count": null,
   "id": "31c64175",
   "metadata": {},
   "outputs": [],
   "source": []
  },
  {
   "cell_type": "code",
   "execution_count": null,
   "id": "6914f1f9",
   "metadata": {},
   "outputs": [],
   "source": []
  },
  {
   "cell_type": "code",
   "execution_count": null,
   "id": "1dab23b9",
   "metadata": {},
   "outputs": [],
   "source": []
  },
  {
   "cell_type": "code",
   "execution_count": null,
   "id": "898ceb1a",
   "metadata": {},
   "outputs": [],
   "source": []
  },
  {
   "cell_type": "code",
   "execution_count": null,
   "id": "423bef74",
   "metadata": {},
   "outputs": [],
   "source": []
  }
 ],
 "metadata": {
  "kernelspec": {
   "display_name": "Python 3 (ipykernel)",
   "language": "python",
   "name": "python3"
  },
  "language_info": {
   "codemirror_mode": {
    "name": "ipython",
    "version": 3
   },
   "file_extension": ".py",
   "mimetype": "text/x-python",
   "name": "python",
   "nbconvert_exporter": "python",
   "pygments_lexer": "ipython3",
   "version": "3.11.4"
  }
 },
 "nbformat": 4,
 "nbformat_minor": 5
}
