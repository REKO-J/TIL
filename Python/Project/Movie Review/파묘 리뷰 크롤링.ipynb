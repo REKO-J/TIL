{
 "cells": [
  {
   "cell_type": "markdown",
   "id": "bdbac244",
   "metadata": {},
   "source": [
    "# 1. Cralling"
   ]
  },
  {
   "cell_type": "code",
   "execution_count": 205,
   "id": "398f3488",
   "metadata": {},
   "outputs": [],
   "source": [
    "import time\n",
    "from selenium import webdriver\n",
    "from selenium.webdriver.common.by import By"
   ]
  },
  {
   "cell_type": "code",
   "execution_count": 206,
   "id": "d82706c7",
   "metadata": {},
   "outputs": [],
   "source": [
    "browser = webdriver.Chrome()\n",
    "browser.maximize_window()  # 브라우저 창 최대화"
   ]
  },
  {
   "cell_type": "code",
   "execution_count": 207,
   "id": "665d1811",
   "metadata": {},
   "outputs": [],
   "source": [
    "url = 'https://search.naver.com/search.naver?where=nexearch&sm=tab_etc&mra=bkEw&pkid=68&os=32764045&qvt=0&query=%EC%98%81%ED%99%94%20%ED%8C%8C%EB%AC%98%20%EA%B4%80%EB%9E%8C%ED%8F%89'\n",
    "browser.get(url)"
   ]
  },
  {
   "cell_type": "code",
   "execution_count": 208,
   "id": "a16d5e9e",
   "metadata": {},
   "outputs": [],
   "source": [
    "reply_quantity = 300\n",
    "\n",
    "# 최신순 클릭\n",
    "# recent_click = browser.find_element(By.XPATH, '//*[@id=\"main_pack\"]/div[2]/div[2]/div/div/div[4]/div[2]/div[1]/div/ul/li[2]/a/span')\n",
    "# recent_click.click()\n",
    "\n",
    "star = []\n",
    "reply = []\n",
    "date = []\n",
    "up = []\n",
    "down = []\n",
    "\n",
    "for _ in range(reply_quantity):    \n",
    "        scroll = browser.find_element(By.XPATH, '//*[@id=\"main_pack\"]/div[2]/div[2]/div/div/div[4]/div[4]')  # 스크롤할 요소 선택\n",
    "        browser.execute_script(\"arguments[0].scrollBy(0, 2000)\", scroll)                                   # 스크롤\n",
    "\n",
    "for i in range(1, reply_quantity + 1):\n",
    "    star.append(browser.find_elements(By.XPATH, f'//*[@id=\"main_pack\"]/div[2]/div[2]/div/div/div[4]/div[4]/ul/li[{i}]/div[1]/div/div[2]')[0].text)\n",
    "    reply.append(browser.find_elements(By.XPATH, f'//*[@id=\"main_pack\"]/div[2]/div[2]/div/div/div[4]/div[4]/ul/li[{i}]/div[2]/div/span[2]')[0].text)\n",
    "    date.append(browser.find_elements(By.XPATH, f'//*[@id=\"main_pack\"]/div[2]/div[2]/div/div/div[4]/div[4]/ul/li[{i}]/dl/dd[2]')[0].text)\n",
    "    up.append(browser.find_elements(By.XPATH, f'//*[@id=\"main_pack\"]/div[2]/div[2]/div/div/div[4]/div[4]/ul/li[{i}]/div[3]/button[1]/span')[0].text)\n",
    "    down.append(browser.find_elements(By.XPATH, f'//*[@id=\"main_pack\"]/div[2]/div[2]/div/div/div[4]/div[4]/ul/li[{i}]/div[3]/button[2]/span')[0].text)"
   ]
  },
  {
   "cell_type": "markdown",
   "id": "83885439",
   "metadata": {},
   "source": [
    "# 2. 데이터프레임"
   ]
  },
  {
   "cell_type": "code",
   "execution_count": 209,
   "id": "9fa2ce28",
   "metadata": {
    "scrolled": false
   },
   "outputs": [
    {
     "data": {
      "text/html": [
       "<div>\n",
       "<style scoped>\n",
       "    .dataframe tbody tr th:only-of-type {\n",
       "        vertical-align: middle;\n",
       "    }\n",
       "\n",
       "    .dataframe tbody tr th {\n",
       "        vertical-align: top;\n",
       "    }\n",
       "\n",
       "    .dataframe thead th {\n",
       "        text-align: right;\n",
       "    }\n",
       "</style>\n",
       "<table border=\"1\" class=\"dataframe\">\n",
       "  <thead>\n",
       "    <tr style=\"text-align: right;\">\n",
       "      <th></th>\n",
       "      <th>star</th>\n",
       "      <th>reply</th>\n",
       "      <th>date</th>\n",
       "      <th>up</th>\n",
       "      <th>down</th>\n",
       "    </tr>\n",
       "  </thead>\n",
       "  <tbody>\n",
       "    <tr>\n",
       "      <th>0</th>\n",
       "      <td>별점(10점 만점 중)\\n7</td>\n",
       "      <td>사무라이 형님 등장하시기 전까진 재밌었음..</td>\n",
       "      <td>2024.02.22. 15:25</td>\n",
       "      <td>17,655</td>\n",
       "      <td>3,514</td>\n",
       "    </tr>\n",
       "    <tr>\n",
       "      <th>1</th>\n",
       "      <td>별점(10점 만점 중)\\n8</td>\n",
       "      <td>죽어서도 끊나지 않은 영혼의 한일전</td>\n",
       "      <td>2024.02.22. 20:53</td>\n",
       "      <td>8,147</td>\n",
       "      <td>540</td>\n",
       "    </tr>\n",
       "    <tr>\n",
       "      <th>2</th>\n",
       "      <td>별점(10점 만점 중)\\n6</td>\n",
       "      <td>극장에서 떠들고 휴대폰 불빛쏘는 것들을 저 묫자리에 파묻고 싶다</td>\n",
       "      <td>2024.02.22. 15:20</td>\n",
       "      <td>7,103</td>\n",
       "      <td>663</td>\n",
       "    </tr>\n",
       "    <tr>\n",
       "      <th>3</th>\n",
       "      <td>별점(10점 만점 중)\\n6</td>\n",
       "      <td>초중반의 꽤 높은몰입도, 후반으로 갈 수록 산으로 가는 전개</td>\n",
       "      <td>2024.02.22. 18:27</td>\n",
       "      <td>8,053</td>\n",
       "      <td>2,173</td>\n",
       "    </tr>\n",
       "    <tr>\n",
       "      <th>4</th>\n",
       "      <td>별점(10점 만점 중)\\n10</td>\n",
       "      <td>배우들 연기가 진짜 미쳤음!! 특히 김고은 연기... 와 선배 배우들이 왜 칭찬했는...</td>\n",
       "      <td>2024.02.22. 10:28</td>\n",
       "      <td>6,050</td>\n",
       "      <td>778</td>\n",
       "    </tr>\n",
       "    <tr>\n",
       "      <th>...</th>\n",
       "      <td>...</td>\n",
       "      <td>...</td>\n",
       "      <td>...</td>\n",
       "      <td>...</td>\n",
       "      <td>...</td>\n",
       "    </tr>\n",
       "    <tr>\n",
       "      <th>295</th>\n",
       "      <td>별점(10점 만점 중)\\n2</td>\n",
       "      <td>음... 귀신인지 뿔난괴물인지 나올때부터 유치해짐 뭔가... 스토리도 별로.. 그냥...</td>\n",
       "      <td>2024.03.11. 16:29</td>\n",
       "      <td>45</td>\n",
       "      <td>21</td>\n",
       "    </tr>\n",
       "    <tr>\n",
       "      <th>296</th>\n",
       "      <td>별점(10점 만점 중)\\n6</td>\n",
       "      <td>후반부는 별로였어요 ㅜㅜㅠㅠ;;</td>\n",
       "      <td>2024.03.02. 00:28</td>\n",
       "      <td>45</td>\n",
       "      <td>21</td>\n",
       "    </tr>\n",
       "    <tr>\n",
       "      <th>297</th>\n",
       "      <td>별점(10점 만점 중)\\n8</td>\n",
       "      <td>호불호야 나뉘겠지만 틀에 박힐 바에야 이런 시도도 좋다.</td>\n",
       "      <td>2024.02.25. 21:43</td>\n",
       "      <td>46</td>\n",
       "      <td>22</td>\n",
       "    </tr>\n",
       "    <tr>\n",
       "      <th>298</th>\n",
       "      <td>별점(10점 만점 중)\\n10</td>\n",
       "      <td>아쉬웠던 점이 없진 않았지만 그래도 재밌게 봤음 일단 한국 토종 민간 신앙을 녹여냈...</td>\n",
       "      <td>2024.02.25. 00:20</td>\n",
       "      <td>46</td>\n",
       "      <td>22</td>\n",
       "    </tr>\n",
       "    <tr>\n",
       "      <th>299</th>\n",
       "      <td>별점(10점 만점 중)\\n6</td>\n",
       "      <td>개인적으로는 매우 실망...ㅠㅠ배우님들 연기는 멋졌습니다 취향상 몰입이 안되었을뿐...</td>\n",
       "      <td>2024.03.06. 23:13</td>\n",
       "      <td>50</td>\n",
       "      <td>26</td>\n",
       "    </tr>\n",
       "  </tbody>\n",
       "</table>\n",
       "<p>300 rows × 5 columns</p>\n",
       "</div>"
      ],
      "text/plain": [
       "                 star                                              reply  \\\n",
       "0     별점(10점 만점 중)\\n7                           사무라이 형님 등장하시기 전까진 재밌었음..   \n",
       "1     별점(10점 만점 중)\\n8                                죽어서도 끊나지 않은 영혼의 한일전   \n",
       "2     별점(10점 만점 중)\\n6                극장에서 떠들고 휴대폰 불빛쏘는 것들을 저 묫자리에 파묻고 싶다   \n",
       "3     별점(10점 만점 중)\\n6                  초중반의 꽤 높은몰입도, 후반으로 갈 수록 산으로 가는 전개   \n",
       "4    별점(10점 만점 중)\\n10  배우들 연기가 진짜 미쳤음!! 특히 김고은 연기... 와 선배 배우들이 왜 칭찬했는...   \n",
       "..                ...                                                ...   \n",
       "295   별점(10점 만점 중)\\n2  음... 귀신인지 뿔난괴물인지 나올때부터 유치해짐 뭔가... 스토리도 별로.. 그냥...   \n",
       "296   별점(10점 만점 중)\\n6                                  후반부는 별로였어요 ㅜㅜㅠㅠ;;   \n",
       "297   별점(10점 만점 중)\\n8                    호불호야 나뉘겠지만 틀에 박힐 바에야 이런 시도도 좋다.   \n",
       "298  별점(10점 만점 중)\\n10  아쉬웠던 점이 없진 않았지만 그래도 재밌게 봤음 일단 한국 토종 민간 신앙을 녹여냈...   \n",
       "299   별점(10점 만점 중)\\n6   개인적으로는 매우 실망...ㅠㅠ배우님들 연기는 멋졌습니다 취향상 몰입이 안되었을뿐...   \n",
       "\n",
       "                  date      up   down  \n",
       "0    2024.02.22. 15:25  17,655  3,514  \n",
       "1    2024.02.22. 20:53   8,147    540  \n",
       "2    2024.02.22. 15:20   7,103    663  \n",
       "3    2024.02.22. 18:27   8,053  2,173  \n",
       "4    2024.02.22. 10:28   6,050    778  \n",
       "..                 ...     ...    ...  \n",
       "295  2024.03.11. 16:29      45     21  \n",
       "296  2024.03.02. 00:28      45     21  \n",
       "297  2024.02.25. 21:43      46     22  \n",
       "298  2024.02.25. 00:20      46     22  \n",
       "299  2024.03.06. 23:13      50     26  \n",
       "\n",
       "[300 rows x 5 columns]"
      ]
     },
     "execution_count": 209,
     "metadata": {},
     "output_type": "execute_result"
    }
   ],
   "source": [
    "import pandas as pd\n",
    "\n",
    "df = pd.DataFrame({'star': star,\n",
    "                   'reply': reply,\n",
    "                   'date': date,\n",
    "                   'up': up,\n",
    "                   'down': down})\n",
    "df"
   ]
  },
  {
   "cell_type": "code",
   "execution_count": null,
   "id": "36bfba59",
   "metadata": {},
   "outputs": [],
   "source": []
  },
  {
   "cell_type": "code",
   "execution_count": null,
   "id": "48627ecf",
   "metadata": {},
   "outputs": [],
   "source": []
  },
  {
   "cell_type": "code",
   "execution_count": null,
   "id": "f142ff53",
   "metadata": {},
   "outputs": [],
   "source": []
  },
  {
   "cell_type": "code",
   "execution_count": null,
   "id": "902275e7",
   "metadata": {},
   "outputs": [],
   "source": []
  },
  {
   "cell_type": "code",
   "execution_count": null,
   "id": "61f553ca",
   "metadata": {},
   "outputs": [],
   "source": []
  },
  {
   "cell_type": "code",
   "execution_count": null,
   "id": "8bd03309",
   "metadata": {},
   "outputs": [],
   "source": []
  },
  {
   "cell_type": "code",
   "execution_count": null,
   "id": "1ce4ee8f",
   "metadata": {},
   "outputs": [],
   "source": []
  },
  {
   "cell_type": "code",
   "execution_count": null,
   "id": "be86d3cb",
   "metadata": {},
   "outputs": [],
   "source": []
  },
  {
   "cell_type": "code",
   "execution_count": null,
   "id": "fd8e2fe9",
   "metadata": {},
   "outputs": [],
   "source": []
  }
 ],
 "metadata": {
  "kernelspec": {
   "display_name": "Python 3 (ipykernel)",
   "language": "python",
   "name": "python3"
  },
  "language_info": {
   "codemirror_mode": {
    "name": "ipython",
    "version": 3
   },
   "file_extension": ".py",
   "mimetype": "text/x-python",
   "name": "python",
   "nbconvert_exporter": "python",
   "pygments_lexer": "ipython3",
   "version": "3.11.4"
  }
 },
 "nbformat": 4,
 "nbformat_minor": 5
}
